{
 "cells": [
  {
   "cell_type": "markdown",
   "id": "340ef319",
   "metadata": {},
   "source": [
    "## Real-time Emotion Recognition "
   ]
  },
  {
   "cell_type": "code",
   "execution_count": null,
   "id": "816cc81f",
   "metadata": {},
   "outputs": [],
   "source": [
    "import cv2 \n",
    "from deepface import DeepFace\n",
    "\n",
    "faceCascade = cv2.CascadeClassifier(cv2.data.haarcascades + 'haarcascade_frontalface_default.xml')\n",
    "\n",
    "cap = cv2.VideoCapture(0)\n",
    "\n",
    "if not cap.isOpened():\n",
    "    cap = cv2.VideoCapture(1)\n",
    "if not cap.isOpened():\n",
    "    raise IOError(\"Cannot open webcam\")\n",
    "    \n",
    "while True:\n",
    "    ret,frame = cap.read()\n",
    "    try:\n",
    "        result = DeepFace.analyze(frame, actions = ['emotion'])\n",
    "        print(result['dominant_emotion'])\n",
    "    except:\n",
    "        print(\"no face\")    \n",
    "    \n",
    "    gray = cv2.cvtColor(frame, cv2.COLOR_BGR2GRAY)\n",
    "    \n",
    "        #print(faceCascade.empty())\n",
    "    faces = faceCascade.detectMultiScale(gray,1.1,4)\n",
    "\n",
    "        #Draw a rectangle around the faces\n",
    "    for(x, y, w, h) in faces:\n",
    "        cv2.rectangle(frame, (x,y), (x+w, y+h), (0, 255, 0), 2)   \n",
    "        \n",
    "    font = cv2.FONT_HERSHEY_SIMPLEX\n",
    "\n",
    "    # Use putText() method for\n",
    "    # inserting text on video\n",
    "    cv2.putText(frame,\n",
    "               result['dominant_emotion'],\n",
    "               (50, 50),\n",
    "               font, 3,\n",
    "               (0, 0, 255),\n",
    "               2,\n",
    "               cv2.LINE_4)\n",
    "    \n",
    "    cv2.imshow('video gray', gray)\n",
    "    cv2.imshow('Demo Video',frame)\n",
    "    \n",
    "    key=cv2.waitKey(2)\n",
    "    \n",
    "    if key == ord('q'):\n",
    "        break\n",
    "        \n",
    "    cap.release()\n",
    "    cv2.destroyAllWindows()"
   ]
  }
 ],
 "metadata": {
  "kernelspec": {
   "display_name": "Python 3 (ipykernel)",
   "language": "python",
   "name": "python3"
  },
  "language_info": {
   "codemirror_mode": {
    "name": "ipython",
    "version": 3
   },
   "file_extension": ".py",
   "mimetype": "text/x-python",
   "name": "python",
   "nbconvert_exporter": "python",
   "pygments_lexer": "ipython3",
   "version": "3.9.7"
  }
 },
 "nbformat": 4,
 "nbformat_minor": 5
}
